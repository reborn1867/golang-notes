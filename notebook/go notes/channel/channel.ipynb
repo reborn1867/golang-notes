{
 "cells": [
  {
   "cell_type": "markdown",
   "metadata": {},
   "source": [
    "## How to check if a channel is closed"
   ]
  },
  {
   "cell_type": "code",
   "execution_count": 2,
   "metadata": {},
   "outputs": [],
   "source": [
    "import (\n",
    "    \"fmt\"\n",
    "    \"time\"\n",
    ")\n",
    "\n",
    "type T int\n",
    "\n",
    "func IsClosed(ch <-chan T) bool {\n",
    "\tselect {\n",
    "\tcase <-ch:\n",
    "\t\treturn true\n",
    "\tdefault:\n",
    "\t}\n",
    "\n",
    "\treturn false\n",
    "}"
   ]
  },
  {
   "cell_type": "code",
   "execution_count": 4,
   "metadata": {},
   "outputs": [
    {
     "name": "stdout",
     "output_type": "stream",
     "text": [
      "false\n",
      "true\n"
     ]
    },
    {
     "data": {
      "text/plain": [
       "5 <nil>"
      ]
     },
     "execution_count": 4,
     "metadata": {},
     "output_type": "execute_result"
    }
   ],
   "source": [
    "c := make(chan T)\n",
    "fmt.Println(IsClosed(c)) // false\n",
    "close(c)\n",
    "fmt.Println(IsClosed(c)) // true"
   ]
  },
  {
   "cell_type": "code",
   "execution_count": null,
   "metadata": {},
   "outputs": [],
   "source": [
    "import \"sync\"\n",
    "\n",
    "var wg *sync.WaitGroup"
   ]
  },
  {
   "cell_type": "code",
   "execution_count": 20,
   "metadata": {},
   "outputs": [
    {
     "name": "stdout",
     "output_type": "stream",
     "text": [
      "channel length: 1\n",
      "test: 1\n",
      "channel length: 0\n"
     ]
    },
    {
     "data": {
      "text/plain": [
       "18 <nil>"
      ]
     },
     "execution_count": 20,
     "metadata": {},
     "output_type": "execute_result"
    }
   ],
   "source": [
    "ch := make(chan int, 2)\n",
    "ch <-1\n",
    "ch <-2\n",
    "\n",
    "x := <-ch\n",
    "\n",
    "fmt.Printf(\"channel length: %d\\n\", len(ch))\n",
    "\n",
    "fmt.Printf(\"test: %d\\n\", x)\n",
    "\n",
    "y := <-ch\n",
    "\n",
    "fmt.Printf(\"channel length: %d\\n\", len(ch))\n"
   ]
  },
  {
   "cell_type": "markdown",
   "metadata": {},
   "source": [
    "## Iterate over values received from a closed channel, Be careful!"
   ]
  },
  {
   "cell_type": "code",
   "execution_count": null,
   "metadata": {},
   "outputs": [],
   "source": [
    "queue := make(chan string, 3)\n",
    "queue <- \"one\"\n",
    "queue <- \"two\"\n",
    "queue <- \"three\"\n",
    "// close(queue)\n",
    "\n",
    "fmt.Println(len(queue))\n",
    "for elem := range queue {\n",
    "    fmt.Println(elem)\n",
    "}\n",
    "\n",
    "\n"
   ]
  },
  {
   "cell_type": "markdown",
   "metadata": {},
   "source": [
    "For channels, the iteration values produced are the successive values sent on the channel until the channel is closed. If the channel is nil, the range expression blocks forever."
   ]
  },
  {
   "cell_type": "code",
   "execution_count": null,
   "metadata": {},
   "outputs": [],
   "source": [
    "import (\n",
    "    \"fmt\"\n",
    "    \"time\"\n",
    ")\n",
    "\n",
    "testChannel1 := make(chan int, 3)\n",
    "\n",
    "testChannel1 <- 1\n",
    "testChannel1 <- 2\n",
    "testChannel1 <- 3\n",
    "\n",
    "\n",
    "for w := range testChannel1 {\n",
    "    fmt.Printf(\"signal received: %d\\n\", w)\n",
    "}\n",
    "fmt.Println(\"test finished\")\n"
   ]
  },
  {
   "cell_type": "code",
   "execution_count": null,
   "metadata": {},
   "outputs": [],
   "source": [
    "    inch := make(chan int)\n",
    "    outch := make(chan int)\n",
    "\n",
    "    go func() {\n",
    "        var in <- chan int = inch\n",
    "        var out chan <- int\n",
    "        var val int\n",
    "        for {\n",
    "            select {\n",
    "            case out <- val:\n",
    "                out = nil\n",
    "                in = inch\n",
    "            case val = <- in:\n",
    "                out = outch\n",
    "                in = nil\n",
    "            }\n",
    "        }\n",
    "    }()\n",
    "\n",
    "    go func() {\n",
    "        for r := range outch {\n",
    "            fmt.Println(\"result:\",r)\n",
    "        }\n",
    "    }()\n",
    "\n",
    "    time.Sleep(0)\n",
    "    inch <- 1\n",
    "    inch <- 2\n",
    "    time.Sleep(3 * time.Second)"
   ]
  },
  {
   "cell_type": "code",
   "execution_count": 7,
   "metadata": {},
   "outputs": [
    {
     "ename": "ERROR",
     "evalue": "repl.go:1:7: expected expression (and 1 more errors)",
     "output_type": "error",
     "traceback": [
      "repl.go:1:7: expected expression (and 1 more errors)"
     ]
    }
   ],
   "source": [
    "ch := chan int\n",
    "\n",
    "var val int \n",
    "go func() {\n",
    "    for {\n",
    "        time.Sleep(time.Second)\n",
    "        var++\n",
    "    } \n",
    "}()\n",
    "\n",
    "go func(){\n",
    "    for {\n",
    "        select {\n",
    "            case ch <- val:\n",
    "            fmt.Printf(\"result: %d\\n\", val)\n",
    "            default:\n",
    "            fmt.Printf(\"default\", val)\n",
    "        }\n",
    "    }\n",
    "}()\n"
   ]
  },
  {
   "cell_type": "markdown",
   "metadata": {},
   "source": [
    "Unbuffered channel gurantee its signal received by the comsumer, the thread is stuck until then."
   ]
  },
  {
   "cell_type": "markdown",
   "metadata": {},
   "source": [
    "However, the buffered channel will just accept signals as long as it's not full."
   ]
  },
  {
   "cell_type": "code",
   "execution_count": 10,
   "metadata": {},
   "outputs": [
    {
     "name": "stdout",
     "output_type": "stream",
     "text": [
      "1 true\n",
      "test finished\n"
     ]
    },
    {
     "data": {
      "text/plain": [
       "14 <nil>"
      ]
     },
     "execution_count": 10,
     "metadata": {},
     "output_type": "execute_result"
    }
   ],
   "source": [
    "// ch := make(chan int, 1)\n",
    "ch := make(chan int)\n",
    "go func(){\n",
    "    time.Sleep(1*time.Second)\n",
    "    fmt.Println(<-ch)\n",
    "}()\n",
    "\n",
    "ch <- 1\n",
    "fmt.Println(\"test finished\")"
   ]
  },
  {
   "cell_type": "code",
   "execution_count": 3,
   "metadata": {},
   "outputs": [
    {
     "name": "stdout",
     "output_type": "stream",
     "text": [
      "53\n",
      "1\n",
      "54\n",
      "test finished\n"
     ]
    },
    {
     "data": {
      "text/plain": [
       "14 <nil>"
      ]
     },
     "execution_count": 3,
     "metadata": {},
     "output_type": "execute_result"
    }
   ],
   "source": [
    "ch :=  make(chan int, 10)\n",
    "\n",
    "go func() {\n",
    "    var i int\n",
    "    for {\n",
    "        time.Sleep(1*time.Second)\n",
    "        i++\n",
    "        ch <- i\n",
    "    }\n",
    "\n",
    "}()\n",
    "\n",
    "go func() {\n",
    "   for e := range ch {\n",
    "    fmt.Println(e)\n",
    "} \n",
    "}()\n",
    "\n",
    "time.Sleep(2*time.Second)\n",
    "fmt.Println(\"test finished\")"
   ]
  },
  {
   "cell_type": "markdown",
   "metadata": {},
   "source": [
    "# Channel in nil state must be closed "
   ]
  },
  {
   "cell_type": "markdown",
   "metadata": {},
   "source": [
    "nil channel must be closed otherwise it will block the whole thread"
   ]
  },
  {
   "cell_type": "code",
   "execution_count": 2,
   "metadata": {},
   "outputs": [],
   "source": [
    "import (\n",
    "    \"fmt\"\n",
    "    \"time\"\n",
    ")\n",
    "\n",
    "func printChannel(ch chan int) {\n",
    "    for e := range ch {\n",
    "        fmt.Printf(\"signal received: %d\\n\", e)\n",
    "    }   \n",
    "}"
   ]
  },
  {
   "cell_type": "code",
   "execution_count": 15,
   "metadata": {},
   "outputs": [
    {
     "name": "stdout",
     "output_type": "stream",
     "text": [
      "signal received: 1\n",
      "test finished\n"
     ]
    },
    {
     "data": {
      "text/plain": [
       "14 <nil>"
      ]
     },
     "execution_count": 15,
     "metadata": {},
     "output_type": "execute_result"
    }
   ],
   "source": [
    "testCh := make(chan int, 1)\n",
    "\n",
    "testCh <- 1\n",
    "close(testCh)\n",
    "printChannel(testCh)\n",
    "fmt.Println(\"test finished\")"
   ]
  },
  {
   "cell_type": "code",
   "execution_count": 5,
   "metadata": {},
   "outputs": [
    {
     "name": "stdout",
     "output_type": "stream",
     "text": [
      "signal received: 1\n",
      "test finished\n"
     ]
    },
    {
     "data": {
      "text/plain": [
       "14 <nil>"
      ]
     },
     "execution_count": 5,
     "metadata": {},
     "output_type": "execute_result"
    }
   ],
   "source": [
    "unbufCh := make(chan int)\n",
    "\n",
    "go func() {\n",
    "    fmt.Printf(\"signal received: %d\\n\", <-unbufCh)\n",
    "}()\n",
    "unbufCh <- 1\n",
    "fmt.Println(\"test finished\")"
   ]
  },
  {
   "cell_type": "markdown",
   "metadata": {},
   "source": [
    "# Unbuffered channels receiving happends before sending"
   ]
  },
  {
   "cell_type": "code",
   "execution_count": null,
   "metadata": {},
   "outputs": [],
   "source": [
    "unbuf := make(chan struct{})\n",
    "go func(){\n",
    "    unbuf <- struct{}{}\n",
    "    fmt.Println(\"signal sent\")\n",
    "}()\n",
    "\n",
    "time.Sleep(2*time.Second)\n",
    "<- unbuf\n",
    "fmt.Println(\"signal received\")\n",
    "time.Sleep(1*time.Second)\n",
    "fmt.Println(\"test finished\")"
   ]
  }
 ],
 "metadata": {
  "kernelspec": {
   "display_name": "Go",
   "language": "go",
   "name": "gophernotes"
  },
  "language_info": {
   "codemirror_mode": "",
   "file_extension": ".go",
   "mimetype": "",
   "name": "go",
   "nbconvert_exporter": "",
   "pygments_lexer": "",
   "version": "go1.11.4"
  }
 },
 "nbformat": 4,
 "nbformat_minor": 2
}
