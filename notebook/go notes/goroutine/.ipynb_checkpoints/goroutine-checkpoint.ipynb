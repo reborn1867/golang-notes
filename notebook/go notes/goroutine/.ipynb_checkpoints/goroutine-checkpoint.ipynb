{
 "cells": [
  {
   "cell_type": "code",
   "execution_count": 6,
   "metadata": {},
   "outputs": [],
   "source": [
    "import (\n",
    "    \"fmt\"\n",
    "    \"time\"\n",
    "    \"runtime\"\n",
    ")"
   ]
  },
  {
   "cell_type": "code",
   "execution_count": 10,
   "metadata": {},
   "outputs": [
    {
     "name": "stdout",
     "output_type": "stream",
     "text": [
      "send 0\n",
      "send 1\n",
      "send 2\n"
     ]
    }
   ],
   "source": [
    "\tfor i := 0; i < 3; i++ {\n",
    "\t\ttime.Sleep(1 * time.Second)\n",
    "\t\tfmt.Printf(\"send %d\\n\", i)\n",
    "\t}"
   ]
  },
  {
   "cell_type": "markdown",
   "metadata": {},
   "source": [
    "### Unexpected behavior when goroutines and closure collide"
   ]
  },
  {
   "cell_type": "code",
   "execution_count": 5,
   "metadata": {},
   "outputs": [
    {
     "name": "stdout",
     "output_type": "stream",
     "text": [
      "send 0\n",
      "send 1\n",
      "send 2\n",
      "test finished\n"
     ]
    },
    {
     "data": {
      "text/plain": [
       "14 <nil>"
      ]
     },
     "execution_count": 5,
     "metadata": {},
     "output_type": "execute_result"
    }
   ],
   "source": [
    "\tfor i := 0; i < 3; i++ {\n",
    "\t\tgo func(index int) {\n",
    "\t\t\ttime.Sleep(1 * time.Second)\n",
    "\t\t\tfmt.Printf(\"send %d\\n\", index)\n",
    "\t\t}(i)\n",
    "\t}\n",
    "\ttime.Sleep(10 * time.Second)\n",
    "\tfmt.Println(\"test finished\")"
   ]
  },
  {
   "cell_type": "code",
   "execution_count": 9,
   "metadata": {},
   "outputs": [
    {
     "name": "stdout",
     "output_type": "stream",
     "text": [
      "num of gorountine: 6\n",
      "num of gorountine: 7\n",
      "num of gorountine: 8\n",
      "num of gorountine: 9\n",
      "num of gorountine: 10\n",
      "num of gorountine: 11\n",
      "num of gorountine: 12\n",
      "num of gorountine: 13\n",
      "num of gorountine: 14\n",
      "num of gorountine: 15\n",
      "0\n",
      "num of gorountine: 15\n",
      "3\n",
      "num of gorountine: 14\n",
      "1\n",
      "num of gorountine: 13\n",
      "2\n",
      "num of gorountine: 12\n",
      "4\n",
      "num of gorountine: 11\n",
      "8\n",
      "num of gorountine: 10\n",
      "5\n",
      "num of gorountine: 9\n",
      "6\n",
      "num of gorountine: 8\n",
      "9\n",
      "num of gorountine: 7\n",
      "7\n",
      "num of gorountine: 6\n",
      "test finished\n"
     ]
    },
    {
     "data": {
      "text/plain": [
       "14 <nil>"
      ]
     },
     "execution_count": 9,
     "metadata": {},
     "output_type": "execute_result"
    }
   ],
   "source": [
    "ch := make(chan int)\n",
    "quit := make(chan struct{})\n",
    "for i := 0; i < 10; i++ {\n",
    "    go func(i int){\n",
    "           ch <- i\n",
    "    }(i)\n",
    "    fmt.Printf(\"num of gorountine: %d\\n\", runtime.NumGoroutine())\n",
    "}\n",
    "\n",
    "go func() {\n",
    "    time.Sleep(11*time.Second)\n",
    "    quit <- struct{}{}\n",
    "}()\n",
    "\n",
    "Loop:\n",
    "for {\n",
    "    select {\n",
    "    case i := <-ch:\n",
    "        time.Sleep(time.Second)\n",
    "        fmt.Println(i)\n",
    "        fmt.Printf(\"num of gorountine: %d\\n\", runtime.NumGoroutine())\n",
    "    case <-quit:\n",
    "        break Loop\n",
    "    }    \n",
    "}\n",
    "\n",
    "fmt.Println(\"test finished\")"
   ]
  },
  {
   "cell_type": "markdown",
   "metadata": {},
   "source": [
    "GOFAQ: https://golang.org/doc/faq#closures_and_goroutines"
   ]
  },
  {
   "cell_type": "markdown",
   "metadata": {},
   "source": [
    "# function arguments too large for new goroutine"
   ]
  },
  {
   "cell_type": "markdown",
   "metadata": {},
   "source": [
    "source code https://golang.org/src/runtime/proc.go"
   ]
  },
  {
   "cell_type": "code",
   "execution_count": 20,
   "metadata": {},
   "outputs": [],
   "source": [
    "import (\n",
    "    \"fmt\"\n",
    "    \"unsafe\"\n",
    "    \"sync\"\n",
    ")\n",
    "\n",
    "type loc_t struct {\n",
    "    count       [999999]int64\n",
    "    Counter     int64\n",
    "}\n"
   ]
  },
  {
   "cell_type": "code",
   "execution_count": 23,
   "metadata": {},
   "outputs": [],
   "source": [
    "loc := loc_t{}\n",
    "\n",
    "go func(l loc_t) {\n",
    "    fmt.Println(l)\n",
    "}(loc)"
   ]
  },
  {
   "cell_type": "code",
   "execution_count": null,
   "metadata": {},
   "outputs": [],
   "source": []
  },
  {
   "cell_type": "code",
   "execution_count": null,
   "metadata": {},
   "outputs": [],
   "source": []
  }
 ],
 "metadata": {
  "kernelspec": {
   "display_name": "Go",
   "language": "go",
   "name": "gophernotes"
  },
  "language_info": {
   "codemirror_mode": "",
   "file_extension": ".go",
   "mimetype": "",
   "name": "go",
   "nbconvert_exporter": "",
   "pygments_lexer": "",
   "version": "go1.11.4"
  }
 },
 "nbformat": 4,
 "nbformat_minor": 2
}
