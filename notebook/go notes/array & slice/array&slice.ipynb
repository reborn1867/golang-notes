{
 "cells": [
  {
   "cell_type": "markdown",
   "metadata": {},
   "source": [
    "# Slice & Array\n"
   ]
  },
  {
   "cell_type": "markdown",
   "metadata": {},
   "source": [
    "* Slice's length and capacity is changable while array's capacity and length is fixed and equal to each other\n",
    "* Slice is passed to the function as pointer while array is passed as a value\n"
   ]
  },
  {
   "cell_type": "code",
   "execution_count": 2,
   "metadata": {},
   "outputs": [
    {
     "name": "stdout",
     "output_type": "stream",
     "text": [
      "array len: 4, cap: 4\n",
      "full slice len: 1, cap: 3\n",
      "slice len: 1, cap: 1\n",
      "map len: 2\n"
     ]
    },
    {
     "data": {
      "text/plain": [
       "11 <nil>"
      ]
     },
     "execution_count": 2,
     "metadata": {},
     "output_type": "execute_result"
    }
   ],
   "source": [
    "import (\n",
    "    \"fmt\"\n",
    ")\n",
    "\n",
    "arr := [4]int{1, 2, 3}\n",
    "fmt.Printf(\"array len: %d, cap: %d\\n\", len(arr), cap(arr))\n",
    "\n",
    "// full slice expression\n",
    "sli1 := make([]int, 1, 3)\n",
    "fmt.Printf(\"full slice len: %d, cap: %d\\n\", len(sli1), cap(sli1))\n",
    "\n",
    "sli2 := make([]int, 1)\n",
    "fmt.Printf(\"slice len: %d, cap: %d\\n\", len(sli2), cap(sli2))\n",
    "\n",
    "m := make(map[int]int, 1)\n",
    "m[1] = 1\n",
    "m[2] = 2\n",
    "fmt.Printf(\"map len: %d\\n\", len(m))"
   ]
  },
  {
   "cell_type": "markdown",
   "metadata": {},
   "source": [
    "Array in go is values which is different from slice, passing array to the function will get a copy of the original array"
   ]
  },
  {
   "cell_type": "code",
   "execution_count": 3,
   "metadata": {},
   "outputs": [
    {
     "name": "stdout",
     "output_type": "stream",
     "text": [
      "array: [1 2 3]\n",
      "slice: [100 2 3]\n"
     ]
    },
    {
     "data": {
      "text/plain": [
       "17 <nil>"
      ]
     },
     "execution_count": 3,
     "metadata": {},
     "output_type": "execute_result"
    }
   ],
   "source": [
    "import (\n",
    "    \"fmt\"\n",
    ")\n",
    "\n",
    "func updateArray(arr [3]int) {\n",
    "    if len(arr) > 0 {\n",
    "        arr[0] = 100\n",
    "    }\n",
    "}\n",
    "\n",
    "func updateSlice(sli []int) {\n",
    "    if len(sli) > 0 {\n",
    "        sli[0] = 100\n",
    "    }\n",
    "}\n",
    "\n",
    "a := [3]int{1,2,3}\n",
    "s := []int{1,2,3}\n",
    "\n",
    "updateArray(a)\n",
    "updateSlice(s)\n",
    "\n",
    "fmt.Printf(\"array: %+v\\n\", a) \n",
    "fmt.Printf(\"slice: %+v\\n\", s)"
   ]
  },
  {
   "cell_type": "markdown",
   "metadata": {},
   "source": [
    "# Appending a pointer element to a new slice in a for loop can be confusing"
   ]
  },
  {
   "cell_type": "code",
   "execution_count": 15,
   "metadata": {},
   "outputs": [
    {
     "name": "stdout",
     "output_type": "stream",
     "text": [
      "&{4}\n",
      "&{4}\n",
      "&{4}\n",
      "&{4}\n"
     ]
    }
   ],
   "source": [
    "import (\n",
    "    \"fmt\"\n",
    ")\n",
    "\n",
    "type a struct {\n",
    "    number int\n",
    "}\n",
    "\n",
    "a1 := a{number: 1}\n",
    "a2 := a{number: 2}\n",
    "a3 := a{number: 3}\n",
    "a4 := a{number: 4}\n",
    "sli := []a{a1, a2, a3, a4}\n",
    "\n",
    "var newSli []*a\n",
    "\n",
    "//Wrong!!!!!!!!!!!!\n",
    "for _, e := range sli {\n",
    "    newSli = append(newSli, &e)\n",
    "}\n",
    "\n",
    "//expected\n",
    "// for _, e := range sli {\n",
    "//     element := e\n",
    "//     newSli = append(newSli, &element)\n",
    "// }\n",
    "\n",
    "for _, e := range newSli {\n",
    "    fmt.Printf(\"%v\\n\", e)\n",
    "}\n",
    "\n",
    "\n",
    "\n"
   ]
  }
 ],
 "metadata": {
  "kernelspec": {
   "display_name": "Go",
   "language": "go",
   "name": "gophernotes"
  },
  "language_info": {
   "codemirror_mode": "",
   "file_extension": ".go",
   "mimetype": "",
   "name": "go",
   "nbconvert_exporter": "",
   "pygments_lexer": "",
   "version": "go1.11.4"
  }
 },
 "nbformat": 4,
 "nbformat_minor": 2
}
