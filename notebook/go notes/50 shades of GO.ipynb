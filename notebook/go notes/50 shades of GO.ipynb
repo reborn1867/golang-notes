{
 "cells": [
  {
   "cell_type": "code",
   "execution_count": 2,
   "metadata": {},
   "outputs": [],
   "source": [
    "import (\n",
    "    \"fmt\"\n",
    "    \"time\"\n",
    "    \"bytes\"\n",
    ")"
   ]
  },
  {
   "cell_type": "markdown",
   "metadata": {},
   "source": [
    "# Map"
   ]
  },
  {
   "cell_type": "markdown",
   "metadata": {},
   "source": [
    "If you would like to call a pointer receiver method on a value, the value must be addressable, __not every__ variable is addressable though. __Map elements__ are not addressable and __variables referenced through interfaces__ are also not addressable. You have to call its pointer instead"
   ]
  },
  {
   "cell_type": "code",
   "execution_count": 6,
   "metadata": {},
   "outputs": [],
   "source": [
    "type data struct {  \n",
    "    name string\n",
    "}\n",
    "\n",
    "func (p *data) print() {  \n",
    "    fmt.Println(\"name:\",p.name)\n",
    "}\n",
    "\n",
    "type printer interface {  \n",
    "    print()\n",
    "}"
   ]
  },
  {
   "cell_type": "code",
   "execution_count": 7,
   "metadata": {},
   "outputs": [
    {
     "name": "stdout",
     "output_type": "stream",
     "text": [
      "name: one\n",
      "name: two\n"
     ]
    },
    {
     "ename": "ERROR",
     "evalue": "reflect.Value.Addr of unaddressable value",
     "output_type": "error",
     "traceback": [
      "reflect.Value.Addr of unaddressable value"
     ]
    }
   ],
   "source": [
    "    d1 := data{\"one\"}\n",
    "    d1.print() //ok\n",
    "\n",
    "//     var in printer = data{\"two\"} //error\n",
    "    var in printer = &data{\"two\"} //ok\n",
    "    in.print()\n",
    "\n",
    "    m := map[string]data{\"x\":data{\"three\"}} //error\n",
    "//     m := map[string]*data{\"x\":&data{\"three\"}} //ok\n",
    "    m[\"x\"].print() \n",
    "\n",
    "    n := map[string]*data {\"x\":&data{\"one\"}}\n",
    "    n[\"z\"] = &data{}\n",
    "    n[\"z\"].name = \"whatthehell?\" //???\n",
    "    n[\"z\"].print()\n",
    "    "
   ]
  },
  {
   "cell_type": "markdown",
   "metadata": {},
   "source": [
    "# Deferred Calls"
   ]
  },
  {
   "cell_type": "markdown",
   "metadata": {},
   "source": [
    "The deferred calls are executed at the end of the containing function __in reverse order__"
   ]
  },
  {
   "cell_type": "code",
   "execution_count": 7,
   "metadata": {},
   "outputs": [],
   "source": [
    "func DeferFuncPrint() {\n",
    "    defer func() {\n",
    "        fmt.Println(\"first defer func\")\n",
    "    }()\n",
    "    \n",
    "    defer func() {\n",
    "        fmt.Println(\"second defer func\")\n",
    "    }()\n",
    "    \n",
    "    for _, i := range []int{1, 2, 3} {\n",
    "        i := i\n",
    "        defer func(index int){\n",
    "            fmt.Printf(\"defer func in for loop: %d\\n\", index)\n",
    "        }(i)\n",
    "        fmt.Printf(\"func for loop: %d\\n\", i)\n",
    "    }\n",
    "    \n",
    "    fmt.Println(\"main func\")\n",
    "}"
   ]
  },
  {
   "cell_type": "code",
   "execution_count": 14,
   "metadata": {
    "scrolled": true
   },
   "outputs": [
    {
     "name": "stdout",
     "output_type": "stream",
     "text": [
      "func for loop: 1\n",
      "func for loop: 2\n",
      "func for loop: 3\n",
      "main func\n",
      "defer func in for loop: 3\n",
      "defer func in for loop: 2\n",
      "defer func in for loop: 1\n",
      "second defer func\n",
      "first defer func\n"
     ]
    }
   ],
   "source": [
    "DeferFuncPrint()"
   ]
  },
  {
   "cell_type": "markdown",
   "metadata": {},
   "source": [
    "# Slice Data \"Corruption\""
   ]
  },
  {
   "cell_type": "markdown",
   "metadata": {},
   "source": [
    "For path rewriting scenario, it does work as expected if you reslice the slice twice, because those newly created slices referenced the same underlying array. If you modify the subslice, it actually change the referenced arrary. \n",
    "\n",
    "The solution can be allocating new slices and copying the data you need or use full slice expression sli := \n",
    "\n",
    "```\n",
    "sli := a[low : high : max]\n",
    "```\n",
    "The syntax has been introduced in Go 1.2 \"Re-slicing slices in Golang\" which is documented in Full slice expressions.\n",
    "That slice has:\n",
    "\n",
    "* indices starting at 0\n",
    "* length equals to high - low\n",
    "* capacity equals to max - low"
   ]
  },
  {
   "cell_type": "code",
   "execution_count": 8,
   "metadata": {
    "scrolled": true
   },
   "outputs": [
    {
     "name": "stdout",
     "output_type": "stream",
     "text": [
      "sep index: 4\n",
      "dir1 => AAAA\n",
      "dir2 => BBBBBBBBB\n",
      "dir1 => AAAAsuffix\n",
      "dir2 => BBBBBBBBB\n",
      "new path => AAAAsuffix/BBBBBBBBB\n"
     ]
    },
    {
     "data": {
      "text/plain": [
       "33 <nil>"
      ]
     },
     "execution_count": 8,
     "metadata": {},
     "output_type": "execute_result"
    }
   ],
   "source": [
    "path := []byte(\"AAAA/BBBBBBBBB\")\n",
    "    sepIndex := bytes.IndexByte(path,'/')\n",
    "    fmt.Printf(\"sep index: %d\\n\", sepIndex)\n",
    "    dir1 := path[:sepIndex:sepIndex] //full slice expression\n",
    "//     dir1 := path[:sepIndex] \n",
    "    dir2 := path[sepIndex+1:]\n",
    "    fmt.Println(\"dir1 =>\",string(dir1)) //prints: dir1 => AAAA\n",
    "    fmt.Println(\"dir2 =>\",string(dir2)) //prints: dir2 => BBBBBBBBB\n",
    "\n",
    "    dir1 = append(dir1,\"suffix\"...)\n",
    "    path = bytes.Join([][]byte{dir1,dir2},[]byte{'/'})\n",
    "\n",
    "    fmt.Println(\"dir1 =>\",string(dir1)) //prints: dir1 => AAAAsuffix\n",
    "    fmt.Println(\"dir2 =>\",string(dir2)) //prints: dir2 => BBBBBBBBB (ok now)\n",
    "\n",
    "    fmt.Println(\"new path =>\",string(path))"
   ]
  },
  {
   "cell_type": "markdown",
   "metadata": {},
   "source": [
    "# Type ssertion"
   ]
  },
  {
   "cell_type": "markdown",
   "metadata": {},
   "source": [
    "Failed type assertions return the \"zero value\" for the target type used in the assertion statement."
   ]
  },
  {
   "cell_type": "code",
   "execution_count": 18,
   "metadata": {},
   "outputs": [
    {
     "name": "stdout",
     "output_type": "stream",
     "text": [
      "[not an int] value => 0\n",
      "[not an int] value => great\n"
     ]
    }
   ],
   "source": [
    "    var data interface{} = \"great\"\n",
    "\n",
    "    // zero value for type int which is 0\n",
    "    if data, ok := data.(int); ok {\n",
    "        fmt.Println(\"[is an int] value =>\",data)\n",
    "    } else {\n",
    "        fmt.Println(\"[not an int] value =>\",data) \n",
    "        //prints: [not an int] value => 0 (not \"great\")\n",
    "    }\n",
    "\n",
    "    // work as expected\n",
    "    if res, ok := data.(int); ok {\n",
    "        fmt.Println(\"[is an int] value =>\",res)\n",
    "    } else {\n",
    "        fmt.Println(\"[not an int] value =>\",data) \n",
    "        //prints: [not an int] value => great (as expected)\n",
    "    }"
   ]
  },
  {
   "cell_type": "code",
   "execution_count": 9,
   "metadata": {},
   "outputs": [
    {
     "name": "stdout",
     "output_type": "stream",
     "text": [
      "b is <nil>\n",
      "b is not nil\n"
     ]
    }
   ],
   "source": [
    "type TestStruct struct {}\n",
    "\n",
    "var a *TestStruct = nil\n",
    "var b interface{}\n",
    "\n",
    "fmt.Printf(\"b is %+v\\n\", b)\n",
    "\n",
    "b = a\n",
    "\n",
    "if b == nil {\n",
    "    fmt.Printf(\"b is nil\\n\")\n",
    "} else {\n",
    "    fmt.Printf(\"b is not nil\\n\")\n",
    "}\n"
   ]
  },
  {
   "cell_type": "code",
   "execution_count": 10,
   "metadata": {},
   "outputs": [
    {
     "ename": "ERROR",
     "evalue": "repl.go:2:11: expected ';', found '|' (and 1 more errors)",
     "output_type": "error",
     "traceback": [
      "repl.go:2:11: expected ';', found '|' (and 1 more errors)"
     ]
    }
   ],
   "source": [
    "type GenericNum interface {\n",
    "    int64 | float64\n",
    "}"
   ]
  }
 ],
 "metadata": {
  "kernelspec": {
   "display_name": "Go",
   "language": "go",
   "name": "gophernotes"
  },
  "language_info": {
   "codemirror_mode": "",
   "file_extension": ".go",
   "mimetype": "",
   "name": "go",
   "nbconvert_exporter": "",
   "pygments_lexer": "",
   "version": "go1.11.4"
  }
 },
 "nbformat": 4,
 "nbformat_minor": 2
}
