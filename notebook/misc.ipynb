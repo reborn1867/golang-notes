{
 "cells": [
  {
   "cell_type": "code",
   "execution_count": 3,
   "metadata": {},
   "outputs": [],
   "source": [
    "import (\n",
    "    \"fmt\"\n",
    "    \"time\"\n",
    "    \"bytes\"\n",
    ")"
   ]
  },
  {
   "cell_type": "code",
   "execution_count": 2,
   "metadata": {},
   "outputs": [
    {
     "name": "stdout",
     "output_type": "stream",
     "text": [
      "hello\n"
     ]
    },
    {
     "data": {
      "text/plain": [
       "6 <nil>"
      ]
     },
     "execution_count": 2,
     "metadata": {},
     "output_type": "execute_result"
    }
   ],
   "source": [
    "fmt.Println(\"hello\")"
   ]
  },
  {
   "cell_type": "code",
   "execution_count": 2,
   "metadata": {},
   "outputs": [
    {
     "name": "stdout",
     "output_type": "stream",
     "text": [
      "world\n"
     ]
    },
    {
     "data": {
      "text/plain": [
       "6 <nil>"
      ]
     },
     "execution_count": 2,
     "metadata": {},
     "output_type": "execute_result"
    }
   ],
   "source": [
    "import \"fmt\"\n",
    "fmt.Println(\"world\")"
   ]
  },
  {
   "cell_type": "code",
   "execution_count": 11,
   "metadata": {},
   "outputs": [
    {
     "name": "stdout",
     "output_type": "stream",
     "text": [
      "10\n",
      "10\n",
      "10\n",
      "10\n",
      "10\n",
      "10\n",
      "10\n",
      "10\n",
      "10\n",
      "10\n"
     ]
    }
   ],
   "source": [
    "for i := 0; i < 10; i++ {\n",
    "    go func(){\n",
    "           fmt.Println(i) \n",
    "    }()\n",
    "}\n",
    "time.Sleep(time.Second)"
   ]
  },
  {
   "cell_type": "code",
   "execution_count": 5,
   "metadata": {},
   "outputs": [
    {
     "data": {
      "text/plain": [
       "100"
      ]
     },
     "execution_count": 5,
     "metadata": {},
     "output_type": "execute_result"
    }
   ],
   "source": [
    "string([]byte{49, 48, 48})"
   ]
  },
  {
   "cell_type": "code",
   "execution_count": 25,
   "metadata": {},
   "outputs": [
    {
     "name": "stdout",
     "output_type": "stream",
     "text": [
      "0\n"
     ]
    },
    {
     "data": {
      "text/plain": [
       "2 <nil>"
      ]
     },
     "execution_count": 25,
     "metadata": {},
     "output_type": "execute_result"
    }
   ],
   "source": [
    "var a int\n",
    "var b int\n",
    "b = 10\n",
    "a *= a\n",
    "fmt.Println(a)"
   ]
  },
  {
   "cell_type": "code",
   "execution_count": 81,
   "metadata": {},
   "outputs": [
    {
     "name": "stdout",
     "output_type": "stream",
     "text": [
      "sep index: 4\n",
      "dir1 => AAAA\n",
      "dir2 => BBBBBBBBB\n",
      "dir1 => AAAAsuffix\n",
      "dir2 => BBBBBBBBB\n",
      "new path => AAAAsuffix/BBBBBBBBB\n"
     ]
    },
    {
     "data": {
      "text/plain": [
       "33 <nil>"
      ]
     },
     "execution_count": 81,
     "metadata": {},
     "output_type": "execute_result"
    }
   ],
   "source": [
    "path := []byte(\"AAAA/BBBBBBBBB\")\n",
    "    sepIndex := bytes.IndexByte(path,'/')\n",
    "    fmt.Printf(\"sep index: %d\\n\", sepIndex)\n",
    "    dir1 := path[:sepIndex:sepIndex] //full slice expression\n",
    "//     dir1 := path[:sepIndex] \n",
    "    dir2 := path[sepIndex+1:]\n",
    "    fmt.Println(\"dir1 =>\",string(dir1)) //prints: dir1 => AAAA\n",
    "    fmt.Println(\"dir2 =>\",string(dir2)) //prints: dir2 => BBBBBBBBB\n",
    "\n",
    "    dir1 = append(dir1,\"suffix\"...)\n",
    "    path = bytes.Join([][]byte{dir1,dir2},[]byte{'/'})\n",
    "\n",
    "    fmt.Println(\"dir1 =>\",string(dir1)) //prints: dir1 => AAAAsuffix\n",
    "    fmt.Println(\"dir2 =>\",string(dir2)) //prints: dir2 => BBBBBBBBB (ok now)\n",
    "\n",
    "    fmt.Println(\"new path =>\",string(path))"
   ]
  },
  {
   "cell_type": "code",
   "execution_count": 85,
   "metadata": {},
   "outputs": [
    {
     "name": "stdout",
     "output_type": "stream",
     "text": [
      "[a d]\n",
      "[c]\n"
     ]
    },
    {
     "data": {
      "text/plain": [
       "4 <nil>"
      ]
     },
     "execution_count": 85,
     "metadata": {},
     "output_type": "execute_result"
    }
   ],
   "source": []
  },
  {
   "cell_type": "code",
   "execution_count": 86,
   "metadata": {
    "scrolled": true
   },
   "outputs": [
    {
     "name": "stdout",
     "output_type": "stream",
     "text": [
      "Geek\n",
      "For\n",
      "Geeks\n"
     ]
    }
   ],
   "source": [
    "    gfg := \"Geek\"\n",
    "  \n",
    "    // Use switch on the day variable. \n",
    "    switch { \n",
    "    case gfg == \"Geek\": \n",
    "        fmt.Println(\"Geek\") \n",
    "        fallthrough \n",
    "    case gfg == \"For\": \n",
    "        fmt.Println(\"For\") \n",
    "        fallthrough \n",
    "    case gfg == \"Geeks\": \n",
    "        fmt.Println(\"Geeks\") \n",
    "    } "
   ]
  },
  {
   "cell_type": "code",
   "execution_count": 88,
   "metadata": {},
   "outputs": [],
   "source": [
    "type data struct {  \n",
    "    name string\n",
    "}\n",
    "\n",
    "func (p *data) print() {  \n",
    "    fmt.Println(\"name:\",p.name)\n",
    "}\n",
    "\n",
    "type printer interface {  \n",
    "    print()\n",
    "}\n",
    "\n"
   ]
  },
  {
   "cell_type": "code",
   "execution_count": 109,
   "metadata": {},
   "outputs": [
    {
     "name": "stdout",
     "output_type": "stream",
     "text": [
      "name: one\n",
      "name: two\n",
      "name: three\n",
      "&{whatthehell?} true\n"
     ]
    },
    {
     "data": {
      "text/plain": [
       "21 <nil>"
      ]
     },
     "execution_count": 109,
     "metadata": {},
     "output_type": "execute_result"
    }
   ],
   "source": [
    "    d1 := data{\"one\"}\n",
    "    d1.print() //ok\n",
    "\n",
    "//     var in printer = data{\"two\"} //error\n",
    "    var in printer = &data{\"two\"} //ok\n",
    "    in.print()\n",
    "\n",
    "//     m := map[string]data{\"x\":data{\"three\"}} //error\n",
    "    m := map[string]*data{\"x\":&data{\"three\"}} //ok\n",
    "    m[\"x\"].print() \n",
    "\n",
    "    n := map[string]*data {\"x\":&data{\"one\"}}\n",
    "    n[\"z\"] = &data{}\n",
    "    n[\"z\"].name = \"whatthehell?\" //???\n",
    "    fmt.Println(n[\"z\"])\n",
    "    "
   ]
  },
  {
   "cell_type": "markdown",
   "metadata": {},
   "source": [
    "The interface type and value fields are populated based on the type and value of the variable used to create the corresponding interface variable. This can lead to unexpected behavior when you are trying to check if an interface variable equals to \"nil\"."
   ]
  },
  {
   "cell_type": "code",
   "execution_count": 110,
   "metadata": {},
   "outputs": [
    {
     "name": "stdout",
     "output_type": "stream",
     "text": [
      "<nil> true\n",
      "<nil> true\n",
      "<nil> false\n"
     ]
    },
    {
     "data": {
      "text/plain": [
       "12 <nil>"
      ]
     },
     "execution_count": 110,
     "metadata": {},
     "output_type": "execute_result"
    }
   ],
   "source": [
    "    var data *byte\n",
    "    var in interface{}\n",
    "\n",
    "    fmt.Println(data,data == nil) //prints: <nil> true\n",
    "    fmt.Println(in,in == nil)     //prints: <nil> true\n",
    "\n",
    "    in = data\n",
    "    fmt.Println(in,in == nil)     //prints: <nil> false"
   ]
  },
  {
   "cell_type": "code",
   "execution_count": 9,
   "metadata": {},
   "outputs": [],
   "source": [
    "func add(num int) int {\n",
    "    return num + 1\n",
    "}\n",
    "\n",
    "func run(f func(interface{})interface{}) {\n",
    "    i := 1\n",
    "    o := f(i)\n",
    "    fmt.Printf(\"output: %+v\", o)\n",
    "}"
   ]
  },
  {
   "cell_type": "code",
   "execution_count": 10,
   "metadata": {},
   "outputs": [
    {
     "ename": "ERROR",
     "evalue": "repl.go:1:5: cannot use <func(int) int> as <func(interface{}) interface{}> in argument to run",
     "output_type": "error",
     "traceback": [
      "repl.go:1:5: cannot use <func(int) int> as <func(interface{}) interface{}> in argument to run"
     ]
    }
   ],
   "source": [
    "run(add)"
   ]
  },
  {
   "cell_type": "code",
   "execution_count": 2,
   "metadata": {},
   "outputs": [],
   "source": [
    "import (  \n",
    "    \"fmt\"\n",
    "    \"time\"\n",
    ")\n",
    "\n",
    "type field struct {  \n",
    "    name string\n",
    "}\n",
    "\n",
    "func (p *field) print() {  \n",
    "    fmt.Println(p.name)\n",
    "}\n",
    "\n",
    "\n",
    "\n"
   ]
  },
  {
   "cell_type": "code",
   "execution_count": 28,
   "metadata": {
    "scrolled": true
   },
   "outputs": [
    {
     "name": "stdout",
     "output_type": "stream",
     "text": [
      "one\n",
      "three\n",
      "two\n"
     ]
    }
   ],
   "source": [
    "data := []field{{\"one\"},{\"two\"},{\"three\"}}\n",
    "\n",
    "for _,v := range data {\n",
    "    v := v\n",
    "    go v.print()\n",
    "}\n",
    "\n",
    "time.Sleep(3 * time.Second)"
   ]
  },
  {
   "cell_type": "markdown",
   "metadata": {},
   "source": [
    "# Deferred Calls"
   ]
  },
  {
   "cell_type": "markdown",
   "metadata": {},
   "source": [
    "The deferred calls are executed at the end of the containing function __in reverse order__"
   ]
  },
  {
   "cell_type": "code",
   "execution_count": 25,
   "metadata": {},
   "outputs": [],
   "source": [
    "func DeferFuncPrint() {\n",
    "    defer func() {\n",
    "        fmt.Println(\"first defer func\")\n",
    "    }()\n",
    "    \n",
    "    defer func() {\n",
    "        fmt.Println(\"second defer func\")\n",
    "    }()\n",
    "    \n",
    "    for _, i := range []int{1, 2, 3} {\n",
    "        i := i\n",
    "        defer func(index int){\n",
    "            fmt.Printf(\"defer func in for loop: %d\\n\", index)\n",
    "        }(i)\n",
    "        fmt.Printf(\"func for loop: %d\\n\", i)\n",
    "    }\n",
    "    \n",
    "    fmt.Println(\"main func\")\n",
    "}"
   ]
  },
  {
   "cell_type": "code",
   "execution_count": 26,
   "metadata": {},
   "outputs": [
    {
     "name": "stdout",
     "output_type": "stream",
     "text": [
      "func for loop: 1\n",
      "func for loop: 2\n",
      "func for loop: 3\n",
      "main func\n",
      "defer func in for loop: 3\n",
      "defer func in for loop: 2\n",
      "defer func in for loop: 1\n",
      "second defer func\n",
      "first defer func\n"
     ]
    }
   ],
   "source": [
    "DeferFuncPrint()"
   ]
  },
  {
   "cell_type": "code",
   "execution_count": 40,
   "metadata": {},
   "outputs": [
    {
     "name": "stdout",
     "output_type": "stream",
     "text": [
      "scheduler: 1000000"
     ]
    },
    {
     "data": {
      "text/plain": [
       "18 <nil>"
      ]
     },
     "execution_count": 40,
     "metadata": {},
     "output_type": "execute_result"
    }
   ],
   "source": [
    "var scheduler float64 = 1000000.0000\n",
    "fmt.Printf(\"scheduler: %d\", int(scheduler))"
   ]
  },
  {
   "cell_type": "code",
   "execution_count": 42,
   "metadata": {},
   "outputs": [],
   "source": [
    "func iterator(m map[string]string) {\n",
    "    for k, v := range m {\n",
    "        fmt.Println(k + v)\n",
    "    }\n",
    "    fmt.Println(\"test finished\")\n",
    "}"
   ]
  },
  {
   "cell_type": "code",
   "execution_count": 1,
   "metadata": {},
   "outputs": [
    {
     "ename": "ERROR",
     "evalue": "repl.go:2:1: undefined identifier: iterator",
     "output_type": "error",
     "traceback": [
      "repl.go:2:1: undefined identifier: iterator"
     ]
    }
   ],
   "source": [
    "mp := map[string]string{\"1\": \"2\"}\n",
    "iterator(mp)"
   ]
  },
  {
   "cell_type": "markdown",
   "metadata": {},
   "source": [
    "# Array function argument"
   ]
  },
  {
   "cell_type": "markdown",
   "metadata": {},
   "source": [
    "Array in go is values which is different from slice, passing array to the function will get a copy of the original array"
   ]
  },
  {
   "cell_type": "code",
   "execution_count": 3,
   "metadata": {},
   "outputs": [
    {
     "name": "stdout",
     "output_type": "stream",
     "text": [
      "array: [1 2 3]\n",
      "slice: [100 2 3]\n"
     ]
    },
    {
     "data": {
      "text/plain": [
       "17 <nil>"
      ]
     },
     "execution_count": 3,
     "metadata": {},
     "output_type": "execute_result"
    }
   ],
   "source": [
    "import (\n",
    "    \"fmt\"\n",
    ")\n",
    "\n",
    "func updateArray(arr [3]int) {\n",
    "    if len(arr) > 0 {\n",
    "        arr[0] = 100\n",
    "    }\n",
    "}\n",
    "\n",
    "func updateSlice(sli []int) {\n",
    "    if len(sli) > 0 {\n",
    "        sli[0] = 100\n",
    "    }\n",
    "}\n",
    "\n",
    "a := [3]int{1,2,3}\n",
    "s := []int{1,2,3}\n",
    "\n",
    "updateArray(a)\n",
    "updateSlice(s)\n",
    "\n",
    "fmt.Printf(\"array: %+v\\n\", a) \n",
    "fmt.Printf(\"slice: %+v\\n\", s)"
   ]
  },
  {
   "cell_type": "code",
   "execution_count": 23,
   "metadata": {},
   "outputs": [
    {
     "name": "stdout",
     "output_type": "stream",
     "text": [
      "v1: {%!q(*[]struct { 𒀸np string }=&[{disable}])}, newsubs: [{\"disable\"}]"
     ]
    },
    {
     "data": {
      "text/plain": [
       "75 <nil>"
      ]
     },
     "execution_count": 23,
     "metadata": {},
     "output_type": "execute_result"
    }
   ],
   "source": [
    "type vnet struct {\n",
    "    subnets *[]subnet\n",
    "}\n",
    "\n",
    "type subnet struct {\n",
    "    np string\n",
    "}\n",
    "\n",
    "v1 := vnet{\n",
    "    subnets: &[]subnet{\n",
    "        {np: \"enable\"},\n",
    "    },\n",
    "}\n",
    "\n",
    "subs := *v1.subnets\n",
    "newsubs := []subnet{}\n",
    "\n",
    "for _, s := range subs {\n",
    "    s.np = \"disable\"\n",
    "    newsubs = append(newsubs, s)\n",
    "}\n",
    "\n",
    "v1.subnets = &newsubs\n",
    "\n",
    "fmt.Printf(\"v1: %q, newsubs: %q\", v1, newsubs)"
   ]
  },
  {
   "cell_type": "code",
   "execution_count": 1,
   "metadata": {},
   "outputs": [
    {
     "ename": "ERROR",
     "evalue": "repl.go:7:1: undefined identifier: fmt",
     "output_type": "error",
     "traceback": [
      "repl.go:7:1: undefined identifier: fmt"
     ]
    }
   ],
   "source": [
    "type S struct {\n",
    "    a string\n",
    "    b string\n",
    "}\n",
    "\n",
    "s := S{}\n",
    "fmt.Printf(\"%p\", &s)"
   ]
  },
  {
   "cell_type": "code",
   "execution_count": 1,
   "metadata": {},
   "outputs": [
    {
     "ename": "ERROR",
     "evalue": "reflect.Value.Slice: slice index out of bounds",
     "output_type": "error",
     "traceback": [
      "reflect.Value.Slice: slice index out of bounds"
     ]
    }
   ],
   "source": [
    "import (\n",
    "    \"fmt\"\n",
    ")\n",
    "\n",
    "\n",
    "a := []int{1,2,3,4,5,6}\n",
    "fmt.Println(a[:7])"
   ]
  },
  {
   "cell_type": "code",
   "execution_count": 4,
   "metadata": {},
   "outputs": [
    {
     "name": "stdout",
     "output_type": "stream",
     "text": [
      "controller.service.annotations.service\\.beta\\.kubernetes\\.io/aws-load-balancer-type=nlb\n",
      "controller.service.annotations.service\\.beta\\.kubernetes\\.io/aws-load-balancer-connection-idle-timeout=3600\n"
     ]
    },
    {
     "data": {
      "text/plain": [
       "108 <nil>"
      ]
     },
     "execution_count": 4,
     "metadata": {},
     "output_type": "execute_result"
    }
   ],
   "source": [
    "import (\n",
    "    \"fmt\"\n",
    "    \"strings\"\n",
    ")\n",
    "AWSNetworkLoadBalancerAnnotation           := \"service\\\\.beta\\\\.kubernetes\\\\.io/aws-load-balancer-type=nlb\"\n",
    "nginxAnnotationValuesPath := \"controller.service.annotations\"\n",
    "AWSLoadBalancerIncreaseTimeoutAnnotation   := \"service.beta.kubernetes.io/aws-load-balancer-connection-idle-timeout=3600\"\n",
    "\n",
    "fmt.Printf(\"%s.%s\\n\", nginxAnnotationValuesPath, AWSNetworkLoadBalancerAnnotation)\n",
    "fmt.Printf(\"%s.%s\\n\", nginxAnnotationValuesPath, strings.Replace(AWSLoadBalancerIncreaseTimeoutAnnotation, \".\", \"\\\\.\", -1))"
   ]
  }
 ],
 "metadata": {
  "kernelspec": {
   "display_name": "Go",
   "language": "go",
   "name": "gophernotes"
  },
  "language_info": {
   "codemirror_mode": "",
   "file_extension": ".go",
   "mimetype": "",
   "name": "go",
   "nbconvert_exporter": "",
   "pygments_lexer": "",
   "version": "go1.11.4"
  }
 },
 "nbformat": 4,
 "nbformat_minor": 2
}
